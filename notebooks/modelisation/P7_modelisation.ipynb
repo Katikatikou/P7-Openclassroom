{
 "cells": [
  {
   "cell_type": "markdown",
   "metadata": {},
   "source": [
    "# Implémentez un modèle de scoring\n",
    "## Phase 2.1 : Modélisation des données \n",
    "\n",
    "On va modéliser les  données précédemment cleaner pour essayer de sortir le meilleur modèle"
   ]
  },
  {
   "cell_type": "code",
   "execution_count": 1,
   "metadata": {},
   "outputs": [
    {
     "name": "stderr",
     "output_type": "stream",
     "text": [
      "Using TensorFlow backend.\n"
     ]
    }
   ],
   "source": [
    "import numpy as np\n",
    "import pandas as pd \n",
    "import warnings\n",
    "warnings.filterwarnings('ignore')\n",
    "import matplotlib.pyplot as plt\n",
    "import seaborn as sns\n",
    "import pickle\n",
    "import os\n",
    "\n",
    "# system\n",
    "import gc\n",
    "gc.enable()\n",
    "\n",
    "from sklearn.model_selection import train_test_split\n",
    "\n",
    "\n",
    "from sklearn.preprocessing import MinMaxScaler\n",
    "from sklearn.impute import SimpleImputer\n",
    "from sklearn.linear_model import LogisticRegression\n",
    "from sklearn.metrics import plot_confusion_matrix\n",
    "from sklearn.metrics import roc_auc_score, accuracy_score\n",
    "\n",
    "from imblearn.over_sampling import SMOTE\n",
    "from hyperopt import hp, tpe, fmin, Trials, STATUS_OK, space_eval\n",
    "from lightgbm import LGBMClassifier\n",
    "import lightgbm as lgb\n"
   ]
  },
  {
   "cell_type": "markdown",
   "metadata": {},
   "source": [
    "### Préparation des données pour modélisation \n",
    "\n",
    "On a un jeu de train et un jeu de test sans valeur target, on va d'abord s'intéresser juste au jeu de train qu'on va splitter pour voir résultat de notre modélisation par rapport à la valeur target"
   ]
  },
  {
   "cell_type": "code",
   "execution_count": 2,
   "metadata": {},
   "outputs": [],
   "source": [
    "data = pd.read_feather('../../output/m_train_small.ft')\n"
   ]
  },
  {
   "cell_type": "code",
   "execution_count": 3,
   "metadata": {},
   "outputs": [
    {
     "data": {
      "image/png": "[encoded data removed]",
      "text/plain": [
       "<Figure size 432x288 with 1 Axes>"
      ]
     },
     "metadata": {
      "needs_background": "light"
     },
     "output_type": "display_data"
    }
   ],
   "source": [
    "data['TARGET'].astype(int).plot.hist();"
   ]
  },
  {
   "cell_type": "markdown",
   "metadata": {},
   "source": [
    "Première remarque est que la valeur target est de 0 pour 90% des données, ce qui fait que le jeu de données est très deséquilibré"
   ]
  },
  {
   "cell_type": "code",
   "execution_count": 4,
   "metadata": {},
   "outputs": [
    {
     "data": {
      "text/html": [
       "<div>\n",
       "<style scoped>\n",
       "    .dataframe tbody tr th:only-of-type {\n",
       "        vertical-align: middle;\n",
       "    }\n",
       "\n",
       "    .dataframe tbody tr th {\n",
       "        vertical-align: top;\n",
       "    }\n",
       "\n",
       "    .dataframe thead th {\n",
       "        text-align: right;\n",
       "    }\n",
       "</style>\n",
       "<table border=\"1\" class=\"dataframe\">\n",
       "  <thead>\n",
       "    <tr style=\"text-align: right;\">\n",
       "      <th></th>\n",
       "      <th>EXT_SOURCE_1</th>\n",
       "      <th>EXT_SOURCE_3</th>\n",
       "      <th>EXT_SOURCE_2</th>\n",
       "      <th>DAYS_BIRTH</th>\n",
       "      <th>client_installments_AMT_PAYMENT_min_sum</th>\n",
       "      <th>AMT_CREDIT</th>\n",
       "      <th>AMT_ANNUITY</th>\n",
       "      <th>DAYS_EMPLOYED</th>\n",
       "      <th>bureau_DAYS_CREDIT_max</th>\n",
       "      <th>bureau_DAYS_CREDIT_ENDDATE_max</th>\n",
       "      <th>...</th>\n",
       "      <th>previous_NAME_TYPE_SUITE_Unaccompanied_sum</th>\n",
       "      <th>client_cash_NAME_CONTRACT_STATUS_Signed_mean_max</th>\n",
       "      <th>previous_PRODUCT_COMBINATION_POSindustrywithoutinterest_mean</th>\n",
       "      <th>client_credit_AMT_DRAWINGS_CURRENT_max_sum</th>\n",
       "      <th>previous_WEEKDAY_APPR_PROCESS_START_TUESDAY_sum</th>\n",
       "      <th>previous_CODE_REJECT_REASON_HC_sum</th>\n",
       "      <th>previous_NAME_GOODS_CATEGORY_PhotoCinemaEquipment_mean</th>\n",
       "      <th>OCCUPATION_TYPE_Highskilltechstaff</th>\n",
       "      <th>TARGET</th>\n",
       "      <th>SK_ID_CURR</th>\n",
       "    </tr>\n",
       "  </thead>\n",
       "  <tbody>\n",
       "    <tr>\n",
       "      <th>0</th>\n",
       "      <td>0.083037</td>\n",
       "      <td>0.139376</td>\n",
       "      <td>0.262949</td>\n",
       "      <td>-9461</td>\n",
       "      <td>1.757837e+05</td>\n",
       "      <td>406597.5</td>\n",
       "      <td>24700.5</td>\n",
       "      <td>-637</td>\n",
       "      <td>-103.0</td>\n",
       "      <td>780.0</td>\n",
       "      <td>...</td>\n",
       "      <td>0.0</td>\n",
       "      <td>0.000000</td>\n",
       "      <td>0.0</td>\n",
       "      <td>NaN</td>\n",
       "      <td>0.0</td>\n",
       "      <td>0.0</td>\n",
       "      <td>0.0</td>\n",
       "      <td>0</td>\n",
       "      <td>1</td>\n",
       "      <td>100002</td>\n",
       "    </tr>\n",
       "    <tr>\n",
       "      <th>1</th>\n",
       "      <td>0.311267</td>\n",
       "      <td>NaN</td>\n",
       "      <td>0.622246</td>\n",
       "      <td>-16765</td>\n",
       "      <td>1.154108e+06</td>\n",
       "      <td>1293502.5</td>\n",
       "      <td>35698.5</td>\n",
       "      <td>-1188</td>\n",
       "      <td>-606.0</td>\n",
       "      <td>1216.0</td>\n",
       "      <td>...</td>\n",
       "      <td>1.0</td>\n",
       "      <td>0.000000</td>\n",
       "      <td>0.0</td>\n",
       "      <td>NaN</td>\n",
       "      <td>0.0</td>\n",
       "      <td>0.0</td>\n",
       "      <td>0.0</td>\n",
       "      <td>0</td>\n",
       "      <td>0</td>\n",
       "      <td>100003</td>\n",
       "    </tr>\n",
       "    <tr>\n",
       "      <th>2</th>\n",
       "      <td>NaN</td>\n",
       "      <td>0.729567</td>\n",
       "      <td>0.555912</td>\n",
       "      <td>-19046</td>\n",
       "      <td>1.607175e+04</td>\n",
       "      <td>135000.0</td>\n",
       "      <td>6750.0</td>\n",
       "      <td>-225</td>\n",
       "      <td>-408.0</td>\n",
       "      <td>-382.0</td>\n",
       "      <td>...</td>\n",
       "      <td>1.0</td>\n",
       "      <td>0.000000</td>\n",
       "      <td>0.0</td>\n",
       "      <td>NaN</td>\n",
       "      <td>0.0</td>\n",
       "      <td>0.0</td>\n",
       "      <td>0.0</td>\n",
       "      <td>0</td>\n",
       "      <td>0</td>\n",
       "      <td>100004</td>\n",
       "    </tr>\n",
       "    <tr>\n",
       "      <th>3</th>\n",
       "      <td>NaN</td>\n",
       "      <td>NaN</td>\n",
       "      <td>0.650442</td>\n",
       "      <td>-19005</td>\n",
       "      <td>9.944767e+05</td>\n",
       "      <td>312682.5</td>\n",
       "      <td>29686.5</td>\n",
       "      <td>-3039</td>\n",
       "      <td>NaN</td>\n",
       "      <td>NaN</td>\n",
       "      <td>...</td>\n",
       "      <td>3.0</td>\n",
       "      <td>0.000000</td>\n",
       "      <td>0.0</td>\n",
       "      <td>0.0</td>\n",
       "      <td>1.0</td>\n",
       "      <td>0.0</td>\n",
       "      <td>0.0</td>\n",
       "      <td>0</td>\n",
       "      <td>0</td>\n",
       "      <td>100006</td>\n",
       "    </tr>\n",
       "    <tr>\n",
       "      <th>4</th>\n",
       "      <td>NaN</td>\n",
       "      <td>NaN</td>\n",
       "      <td>0.322738</td>\n",
       "      <td>-19932</td>\n",
       "      <td>4.837564e+05</td>\n",
       "      <td>513000.0</td>\n",
       "      <td>21865.5</td>\n",
       "      <td>-3038</td>\n",
       "      <td>-1149.0</td>\n",
       "      <td>-783.0</td>\n",
       "      <td>...</td>\n",
       "      <td>2.0</td>\n",
       "      <td>0.076923</td>\n",
       "      <td>0.0</td>\n",
       "      <td>NaN</td>\n",
       "      <td>0.0</td>\n",
       "      <td>0.0</td>\n",
       "      <td>0.0</td>\n",
       "      <td>0</td>\n",
       "      <td>0</td>\n",
       "      <td>100007</td>\n",
       "    </tr>\n",
       "  </tbody>\n",
       "</table>\n",
       "<p>5 rows × 340 columns</p>\n",
       "</div>"
      ],
      "text/plain": [
       "   EXT_SOURCE_1  EXT_SOURCE_3  EXT_SOURCE_2  DAYS_BIRTH  \\\n",
       "0      0.083037      0.139376      0.262949       -9461   \n",
       "1      0.311267           NaN      0.622246      -16765   \n",
       "2           NaN      0.729567      0.555912      -19046   \n",
       "3           NaN           NaN      0.650442      -19005   \n",
       "4           NaN           NaN      0.322738      -19932   \n",
       "\n",
       "   client_installments_AMT_PAYMENT_min_sum  AMT_CREDIT  AMT_ANNUITY  \\\n",
       "0                             1.757837e+05    406597.5      24700.5   \n",
       "1                             1.154108e+06   1293502.5      35698.5   \n",
       "2                             1.607175e+04    135000.0       6750.0   \n",
       "3                             9.944767e+05    312682.5      29686.5   \n",
       "4                             4.837564e+05    513000.0      21865.5   \n",
       "\n",
       "   DAYS_EMPLOYED  bureau_DAYS_CREDIT_max  bureau_DAYS_CREDIT_ENDDATE_max  ...  \\\n",
       "0           -637                  -103.0                           780.0  ...   \n",
       "1          -1188                  -606.0                          1216.0  ...   \n",
       "2           -225                  -408.0                          -382.0  ...   \n",
       "3          -3039                     NaN                             NaN  ...   \n",
       "4          -3038                 -1149.0                          -783.0  ...   \n",
       "\n",
       "   previous_NAME_TYPE_SUITE_Unaccompanied_sum  \\\n",
       "0                                         0.0   \n",
       "1                                         1.0   \n",
       "2                                         1.0   \n",
       "3                                         3.0   \n",
       "4                                         2.0   \n",
       "\n",
       "   client_cash_NAME_CONTRACT_STATUS_Signed_mean_max  \\\n",
       "0                                          0.000000   \n",
       "1                                          0.000000   \n",
       "2                                          0.000000   \n",
       "3                                          0.000000   \n",
       "4                                          0.076923   \n",
       "\n",
       "   previous_PRODUCT_COMBINATION_POSindustrywithoutinterest_mean  \\\n",
       "0                                                0.0              \n",
       "1                                                0.0              \n",
       "2                                                0.0              \n",
       "3                                                0.0              \n",
       "4                                                0.0              \n",
       "\n",
       "   client_credit_AMT_DRAWINGS_CURRENT_max_sum  \\\n",
       "0                                         NaN   \n",
       "1                                         NaN   \n",
       "2                                         NaN   \n",
       "3                                         0.0   \n",
       "4                                         NaN   \n",
       "\n",
       "   previous_WEEKDAY_APPR_PROCESS_START_TUESDAY_sum  \\\n",
       "0                                              0.0   \n",
       "1                                              0.0   \n",
       "2                                              0.0   \n",
       "3                                              1.0   \n",
       "4                                              0.0   \n",
       "\n",
       "   previous_CODE_REJECT_REASON_HC_sum  \\\n",
       "0                                 0.0   \n",
       "1                                 0.0   \n",
       "2                                 0.0   \n",
       "3                                 0.0   \n",
       "4                                 0.0   \n",
       "\n",
       "   previous_NAME_GOODS_CATEGORY_PhotoCinemaEquipment_mean  \\\n",
       "0                                                0.0        \n",
       "1                                                0.0        \n",
       "2                                                0.0        \n",
       "3                                                0.0        \n",
       "4                                                0.0        \n",
       "\n",
       "   OCCUPATION_TYPE_Highskilltechstaff  TARGET  SK_ID_CURR  \n",
       "0                                   0       1      100002  \n",
       "1                                   0       0      100003  \n",
       "2                                   0       0      100004  \n",
       "3                                   0       0      100006  \n",
       "4                                   0       0      100007  \n",
       "\n",
       "[5 rows x 340 columns]"
      ]
     },
     "execution_count": 4,
     "metadata": {},
     "output_type": "execute_result"
    }
   ],
   "source": [
    "data.head()"
   ]
  },
  {
   "cell_type": "markdown",
   "metadata": {},
   "source": [
    "On splitte notre jeu de données en train / test pour la modélisation "
   ]
  },
  {
   "cell_type": "code",
   "execution_count": 5,
   "metadata": {},
   "outputs": [],
   "source": [
    "labels= data['TARGET']\n",
    "\n",
    "X_train, X_test, y_train, y_test = train_test_split(data.drop(columns=['TARGET', 'SK_ID_CURR']), \n",
    "                                                    labels, \n",
    "                                                    stratify=labels, \n",
    "                                                    test_size=0.25)\n"
   ]
  },
  {
   "cell_type": "markdown",
   "metadata": {},
   "source": [
    "On va juste faire quelque transformations de base sur les données à savoir, remplacer les valeur infinies par nan, utiliser la médiane pour les valeurs manquantes, et finalement scaler les données en utilisant un  MinMaxScaler\n"
   ]
  },
  {
   "cell_type": "code",
   "execution_count": 6,
   "metadata": {},
   "outputs": [
    {
     "name": "stdout",
     "output_type": "stream",
     "text": [
      "Training data shape:  (230633, 338)\n",
      "Testing data shape:  (76878, 338)\n"
     ]
    }
   ],
   "source": [
    "X_train.replace([np.inf, -np.inf], np.nan, inplace=True)\n",
    "X_test.replace([np.inf, -np.inf], np.nan, inplace=True)\n",
    "\n",
    "# Feature names\n",
    "features = list(X_train.columns)\n",
    "\n",
    "# Median imputation of missing values\n",
    "imputer = SimpleImputer(strategy = 'median')\n",
    "\n",
    "# Scale each feature to 0.01-1\n",
    "scaler = MinMaxScaler(feature_range = (0.01, 1))\n",
    "\n",
    "# Fit on the training data\n",
    "imputer.fit(X_train)\n",
    "\n",
    "# Transform both training and testing data\n",
    "X_train = pd.DataFrame(imputer.transform(X_train),columns = X_train.columns)\n",
    "X_test = pd.DataFrame(imputer.transform(X_test),columns = X_test.columns)\n",
    "\n",
    "# Repeat with the scaler\n",
    "scaler.fit(X_train)\n",
    "X_train_scaled = pd.DataFrame(scaler.transform(X_train),columns = X_train.columns)\n",
    "X_test_scaled = pd.DataFrame(scaler.transform(X_test),columns = X_test.columns)\n",
    "\n",
    "print('Training data shape: ', X_train_scaled.shape)\n",
    "print('Testing data shape: ', X_test_scaled.shape)"
   ]
  },
  {
   "cell_type": "markdown",
   "metadata": {},
   "source": [
    "### Utilisation d'une baseline \n",
    "\n",
    "On commence par utiliser une simple regression logistique comme baseline"
   ]
  },
  {
   "cell_type": "code",
   "execution_count": 7,
   "metadata": {},
   "outputs": [
    {
     "data": {
      "text/plain": [
       "LogisticRegression(C=0.0001)"
      ]
     },
     "execution_count": 7,
     "metadata": {},
     "output_type": "execute_result"
    }
   ],
   "source": [
    "\n",
    "# Make the model with the specified regularization parameter\n",
    "log_reg = LogisticRegression(C = 0.0001)\n",
    "\n",
    "# Train on the training data\n",
    "log_reg.fit(X_train_scaled, y_train)"
   ]
  },
  {
   "cell_type": "code",
   "execution_count": 8,
   "metadata": {},
   "outputs": [
    {
     "data": {
      "text/plain": [
       "0.9192746949712531"
      ]
     },
     "execution_count": 8,
     "metadata": {},
     "output_type": "execute_result"
    }
   ],
   "source": [
    "log_reg.score(X_test_scaled, y_test)"
   ]
  },
  {
   "cell_type": "markdown",
   "metadata": {},
   "source": [
    "A priori le modèle est pas mal, il donne 91% d'accuracy, on va regarder le résultat sur le jeu de train, avec une matrice de confusion"
   ]
  },
  {
   "cell_type": "code",
   "execution_count": 9,
   "metadata": {},
   "outputs": [
    {
     "data": {
      "image/png": "[encoded data removed]",
      "text/plain": [
       "<Figure size 1080x1080 with 2 Axes>"
      ]
     },
     "metadata": {
      "needs_background": "light"
     },
     "output_type": "display_data"
    }
   ],
   "source": [
    "fig, ax = plt.subplots(figsize=(15, 15))\n",
    "disp = plot_confusion_matrix(log_reg, \n",
    "                             X_test_scaled, y_test, cmap=plt.cm.Blues,\n",
    "                             normalize='true', \n",
    "                             xticks_rotation='vertical',\n",
    "                             ax=ax)\n",
    "disp.ax_.set_title('Confustion matrix when using Logistic regression')\n",
    "plt.show()"
   ]
  },
  {
   "cell_type": "markdown",
   "metadata": {},
   "source": [
    "Le modèle renvoie toujours 1, ce qui explique l'accuracy elevée, pour une deuxième baseline on va enrichir nos données en faisant de l'over sampling en utilisant SMOTE"
   ]
  },
  {
   "cell_type": "code",
   "execution_count": 10,
   "metadata": {},
   "outputs": [],
   "source": [
    "sm = SMOTE(random_state=42, n_jobs=4)\n",
    "sampled_train, sampled_labels = sm.fit_resample(X_train_scaled, y_train)"
   ]
  },
  {
   "cell_type": "markdown",
   "metadata": {},
   "source": [
    "Regardons maintenant la répartition des labels"
   ]
  },
  {
   "cell_type": "code",
   "execution_count": 11,
   "metadata": {},
   "outputs": [
    {
     "data": {
      "text/plain": [
       "<matplotlib.axes._subplots.AxesSubplot at 0x1a9001c7508>"
      ]
     },
     "execution_count": 11,
     "metadata": {},
     "output_type": "execute_result"
    },
    {
     "data": {
      "image/png": "[encoded data removed]",
      "text/plain": [
       "<Figure size 432x288 with 1 Axes>"
      ]
     },
     "metadata": {
      "needs_background": "light"
     },
     "output_type": "display_data"
    }
   ],
   "source": [
    "sampled_labels.astype(int).plot.hist()"
   ]
  },
  {
   "cell_type": "markdown",
   "metadata": {},
   "source": [
    "Les données sont beaucoup mieux réparties maintenant, on va lancer la meme regression logistique pour voirle résultat"
   ]
  },
  {
   "cell_type": "code",
   "execution_count": 12,
   "metadata": {},
   "outputs": [
    {
     "data": {
      "text/plain": [
       "LogisticRegression(C=0.0001)"
      ]
     },
     "execution_count": 12,
     "metadata": {},
     "output_type": "execute_result"
    }
   ],
   "source": [
    "# Make the model with the specified regularization parameter\n",
    "log_reg_sampled = LogisticRegression(C = 0.0001)\n",
    "\n",
    "# Train on the training data\n",
    "log_reg_sampled.fit(sampled_train, sampled_labels)"
   ]
  },
  {
   "cell_type": "code",
   "execution_count": 13,
   "metadata": {},
   "outputs": [
    {
     "data": {
      "text/plain": [
       "0.6791539842347616"
      ]
     },
     "execution_count": 13,
     "metadata": {},
     "output_type": "execute_result"
    }
   ],
   "source": [
    "log_reg_sampled.score(X_test_scaled, y_test)"
   ]
  },
  {
   "cell_type": "markdown",
   "metadata": {},
   "source": [
    "On remarque que le score est bien plus bas qu'avant, regardons la matrice de confusion"
   ]
  },
  {
   "cell_type": "code",
   "execution_count": 14,
   "metadata": {},
   "outputs": [
    {
     "data": {
      "image/png": "[encoded data removed]",
      "text/plain": [
       "<Figure size 1080x1080 with 2 Axes>"
      ]
     },
     "metadata": {
      "needs_background": "light"
     },
     "output_type": "display_data"
    }
   ],
   "source": [
    "fig, ax = plt.subplots(figsize=(15, 15))\n",
    "disp = plot_confusion_matrix(log_reg_sampled, \n",
    "                             X_test_scaled, y_test, cmap=plt.cm.Blues,\n",
    "                             normalize='true', \n",
    "                             xticks_rotation='vertical',\n",
    "                             ax=ax)\n",
    "disp.ax_.set_title('Confustion matrix when using Logistic regression')\n",
    "plt.show()"
   ]
  },
  {
   "cell_type": "markdown",
   "metadata": {},
   "source": [
    "Le score est certes plus bas, mais on prédit avec la même accuracy les données minoritaires, comme majoritaires"
   ]
  },
  {
   "cell_type": "code",
   "execution_count": 15,
   "metadata": {},
   "outputs": [
    {
     "data": {
      "text/plain": [
       "0.5"
      ]
     },
     "execution_count": 15,
     "metadata": {},
     "output_type": "execute_result"
    }
   ],
   "source": [
    "roc_auc_score(y_test, log_reg.predict(X_test_scaled))"
   ]
  },
  {
   "cell_type": "code",
   "execution_count": 16,
   "metadata": {},
   "outputs": [
    {
     "data": {
      "text/plain": [
       "0.6693185431824468"
      ]
     },
     "execution_count": 16,
     "metadata": {},
     "output_type": "execute_result"
    }
   ],
   "source": [
    "roc_auc_score(y_test, log_reg_sampled.predict(X_test_scaled))"
   ]
  },
  {
   "cell_type": "markdown",
   "metadata": {},
   "source": [
    "En regardant le AUC score on remarque en effet que le score est bien mieux maintenant"
   ]
  },
  {
   "cell_type": "markdown",
   "metadata": {},
   "source": [
    "### Optimisation du modèle\n",
    "\n",
    "On va utiliser hyperopt pour chercher les paramètres optimaux pour un Light GBM classifier on a voulu tester beaucoup de modèle, mais malheureusement la puissance de mon ordinateur actuel ne le permet pas "
   ]
  },
  {
   "cell_type": "code",
   "execution_count": 17,
   "metadata": {},
   "outputs": [],
   "source": [
    "models_spaces = {}\n",
    "models_spaces['lgbm'] = { \n",
    "    'model':             LGBMClassifier,\n",
    "    'num_leaves':        hp.choice('lgbm_num_leaves', range(6,50)),\n",
    "    'min_child_samples': hp.choice('lgbm_min_child_samples', range(20,100)),\n",
    "    'min_child_weight':  hp.uniform('lgbm_min_child_weight', 0.00001, 20),\n",
    "    'colsample_bytree':  hp.uniform('lgbm_colsample_bytree', 0.2, 1),\n",
    "    'reg_alpha':         hp.uniform('lgbm_reg_alpha', 0, 1),\n",
    "    'reg_lambda':        hp.uniform('lgbm_reg_lambda', 0, 1),\n",
    "    'n_estimators':      10000,\n",
    "    'objective':         'binary',\n",
    "    'boosting_type':     'goss',\n",
    "    'class_weight':      'balanced'\n",
    "}"
   ]
  },
  {
   "cell_type": "code",
   "execution_count": 18,
   "metadata": {},
   "outputs": [],
   "source": [
    "space = {}\n",
    "space['models_spaces'] = hp.choice(\n",
    "        'models_spaces',\n",
    "        [ models_spaces[key] for key in models_spaces ]\n",
    "    )\n"
   ]
  },
  {
   "cell_type": "markdown",
   "metadata": {},
   "source": [
    "#### Définition d'une fonction de cout \n",
    "\n",
    "Actuellement, le score AUC représenterait le mieux notre fonction de cout, ou même un F1 score, \n",
    "Ce qu'on voudrait c'est être plus proche de la réalité, on va estimer que la banque dégage une marge par crédit de 0.5%, la banque pert cette marge là si elle n'accord pas un crédit à un client qui va payer, et par contre elle perd potentiellement tout l'argent du crédit si le client est mauvais payeur, et ça sera notre fonction de cout, voyons ce que ça donne pour certaines données"
   ]
  },
  {
   "cell_type": "code",
   "execution_count": 19,
   "metadata": {},
   "outputs": [
    {
     "data": {
      "text/html": [
       "<div>\n",
       "<style scoped>\n",
       "    .dataframe tbody tr th:only-of-type {\n",
       "        vertical-align: middle;\n",
       "    }\n",
       "\n",
       "    .dataframe tbody tr th {\n",
       "        vertical-align: top;\n",
       "    }\n",
       "\n",
       "    .dataframe thead th {\n",
       "        text-align: right;\n",
       "    }\n",
       "</style>\n",
       "<table border=\"1\" class=\"dataframe\">\n",
       "  <thead>\n",
       "    <tr style=\"text-align: right;\">\n",
       "      <th></th>\n",
       "      <th>AMT_CREDIT</th>\n",
       "      <th>AMT_ANNUITY</th>\n",
       "      <th>cost</th>\n",
       "      <th>percent of credit</th>\n",
       "    </tr>\n",
       "  </thead>\n",
       "  <tbody>\n",
       "    <tr>\n",
       "      <th>0</th>\n",
       "      <td>254700.0</td>\n",
       "      <td>28867.5</td>\n",
       "      <td>6295.514197</td>\n",
       "      <td>2.471737</td>\n",
       "    </tr>\n",
       "    <tr>\n",
       "      <th>1</th>\n",
       "      <td>337500.0</td>\n",
       "      <td>16875.0</td>\n",
       "      <td>17998.551323</td>\n",
       "      <td>5.332904</td>\n",
       "    </tr>\n",
       "    <tr>\n",
       "      <th>2</th>\n",
       "      <td>719365.5</td>\n",
       "      <td>36859.5</td>\n",
       "      <td>37464.837987</td>\n",
       "      <td>5.208039</td>\n",
       "    </tr>\n",
       "    <tr>\n",
       "      <th>3</th>\n",
       "      <td>408780.0</td>\n",
       "      <td>13185.0</td>\n",
       "      <td>33521.265320</td>\n",
       "      <td>8.200319</td>\n",
       "    </tr>\n",
       "    <tr>\n",
       "      <th>4</th>\n",
       "      <td>273636.0</td>\n",
       "      <td>15835.5</td>\n",
       "      <td>12674.310872</td>\n",
       "      <td>4.631814</td>\n",
       "    </tr>\n",
       "    <tr>\n",
       "      <th>...</th>\n",
       "      <td>...</td>\n",
       "      <td>...</td>\n",
       "      <td>...</td>\n",
       "      <td>...</td>\n",
       "    </tr>\n",
       "    <tr>\n",
       "      <th>230628</th>\n",
       "      <td>216000.0</td>\n",
       "      <td>8271.0</td>\n",
       "      <td>14947.889979</td>\n",
       "      <td>6.920319</td>\n",
       "    </tr>\n",
       "    <tr>\n",
       "      <th>230629</th>\n",
       "      <td>1214086.5</td>\n",
       "      <td>43609.5</td>\n",
       "      <td>89487.866336</td>\n",
       "      <td>7.370798</td>\n",
       "    </tr>\n",
       "    <tr>\n",
       "      <th>230630</th>\n",
       "      <td>1129500.0</td>\n",
       "      <td>58612.5</td>\n",
       "      <td>58108.392423</td>\n",
       "      <td>5.144612</td>\n",
       "    </tr>\n",
       "    <tr>\n",
       "      <th>230631</th>\n",
       "      <td>755856.0</td>\n",
       "      <td>31905.0</td>\n",
       "      <td>47536.615124</td>\n",
       "      <td>6.289110</td>\n",
       "    </tr>\n",
       "    <tr>\n",
       "      <th>230632</th>\n",
       "      <td>270000.0</td>\n",
       "      <td>13500.0</td>\n",
       "      <td>14398.841058</td>\n",
       "      <td>5.332904</td>\n",
       "    </tr>\n",
       "  </tbody>\n",
       "</table>\n",
       "<p>230633 rows × 4 columns</p>\n",
       "</div>"
      ],
      "text/plain": [
       "        AMT_CREDIT  AMT_ANNUITY          cost  percent of credit\n",
       "0         254700.0      28867.5   6295.514197           2.471737\n",
       "1         337500.0      16875.0  17998.551323           5.332904\n",
       "2         719365.5      36859.5  37464.837987           5.208039\n",
       "3         408780.0      13185.0  33521.265320           8.200319\n",
       "4         273636.0      15835.5  12674.310872           4.631814\n",
       "...            ...          ...           ...                ...\n",
       "230628    216000.0       8271.0  14947.889979           6.920319\n",
       "230629   1214086.5      43609.5  89487.866336           7.370798\n",
       "230630   1129500.0      58612.5  58108.392423           5.144612\n",
       "230631    755856.0      31905.0  47536.615124           6.289110\n",
       "230632    270000.0      13500.0  14398.841058           5.332904\n",
       "\n",
       "[230633 rows x 4 columns]"
      ]
     },
     "execution_count": 19,
     "metadata": {},
     "output_type": "execute_result"
    }
   ],
   "source": [
    "r = 0.005\n",
    "cost = X_train[['AMT_CREDIT', 'AMT_ANNUITY']]\n",
    "duration_years = X_train['AMT_CREDIT'] / X_train['AMT_ANNUITY']\n",
    "annuity_factor = (1 - (1+r)**(-1 * duration_years)) / r\n",
    "installments = X_train['AMT_CREDIT'] / annuity_factor\n",
    "credit_cost = installments * duration_years  - X_train['AMT_CREDIT']\n",
    "cost['cost'] = credit_cost\n",
    "cost['percent of credit'] = 100 * credit_cost / X_train['AMT_CREDIT']\n",
    "\n",
    "cost"
   ]
  },
  {
   "cell_type": "markdown",
   "metadata": {},
   "source": [
    "que le cout du crédit varie suivant le montant accordé entre, ça reste dans les  alentours de 3 à 8 %"
   ]
  },
  {
   "cell_type": "code",
   "execution_count": 20,
   "metadata": {},
   "outputs": [],
   "source": [
    "r = 0.005\n",
    "def credit_gain(X, y_pred, y_true):\n",
    "    '''\n",
    "        Fonction pour définir le cout on fonction de la prédiction et de la vraie valeur\n",
    "        Elle renvoie la moyenne de la perte/ gain de la banque\n",
    "    '''\n",
    "    duration_years = X['AMT_CREDIT'] / X['AMT_ANNUITY']\n",
    "    annuity_factor = (1 - (1+r)**(-1 * duration_years)) / r\n",
    "    installments = X['AMT_CREDIT'] / annuity_factor\n",
    "    credit_cost = installments * duration_years  - X['AMT_CREDIT']\n",
    "    total_gain = 0\n",
    "    for i,j,k,l in zip(y_pred, y_true, credit_cost, X['AMT_CREDIT']):\n",
    "        if i == j:\n",
    "            if i == 1:\n",
    "                total_gain += 0\n",
    "            if i == 0:\n",
    "                total_gain += k\n",
    "        else:\n",
    "            if i == 1:\n",
    "                total_gain -= k\n",
    "            if i == 0:\n",
    "                total_gain -= l\n",
    "    return total_gain / len(y_pred)\n",
    "\n",
    "def credit_gain_on_proba(X, y_proba, y_true, threshold=0.5):\n",
    "    '''\n",
    "       A partir de quel proba decide t on quele client est mauvais payeur ? \n",
    "    '''\n",
    "    mask = y_proba > threshold\n",
    "    y_pred = mask.astype(int)\n",
    "    return credit_gain(X, y_pred, y_true)\n",
    "    \n",
    "def expected_gain(model, X, y_true):\n",
    "    '''\n",
    "        Gain sans utiliser la proba, mais on utilisant directement la prédiction du modèle\n",
    "    '''\n",
    "    y_pred = model.predict(X)\n",
    "    score = credit_gain(X, y_pred, y_true)\n",
    "    return score\n",
    "\n",
    "def credit_gain_on_optimal_proba(X, y_proba, y_true):\n",
    "    '''\n",
    "        Utilisation d'une proba optimale en fonction du modèle pour maximiser les gains\n",
    "    '''\n",
    "    scores=[]\n",
    "    for threshold in np.linspace(0, 1, num=11):\n",
    "        mask = y_proba > threshold\n",
    "        y_pred = mask.astype(int)\n",
    "        score = credit_gain(X, y_pred, y_true)\n",
    "        scores.append(score)\n",
    "    return max(scores)\n",
    "    \n"
   ]
  },
  {
   "cell_type": "markdown",
   "metadata": {},
   "source": [
    "Maintenant qu'on a défini nos gonctions voyons ce que ça donne pour nos deux baselines"
   ]
  },
  {
   "cell_type": "code",
   "execution_count": 21,
   "metadata": {},
   "outputs": [
    {
     "data": {
      "text/plain": [
       "-440.78979004624335"
      ]
     },
     "execution_count": 21,
     "metadata": {},
     "output_type": "execute_result"
    }
   ],
   "source": [
    "credit_gain_on_optimal_proba(X_test, log_reg.predict_proba(X_test_scaled)[:, 1], y_test)"
   ]
  },
  {
   "cell_type": "code",
   "execution_count": 22,
   "metadata": {},
   "outputs": [
    {
     "data": {
      "text/plain": [
       "902.2755170172421"
      ]
     },
     "execution_count": 22,
     "metadata": {},
     "output_type": "execute_result"
    }
   ],
   "source": [
    "credit_gain_on_optimal_proba(X_test, log_reg_sampled.predict_proba(X_test_scaled)[:, 1], y_test)"
   ]
  },
  {
   "cell_type": "markdown",
   "metadata": {},
   "source": [
    "On voit qu'en moyenne, les cout se sont améliorés avec le sampling, essayons maintenant avec un modèle amélioré"
   ]
  },
  {
   "cell_type": "markdown",
   "metadata": {},
   "source": [
    "Pour des raisons de performance, on préfère faire le scaling, et le sampling en amont, (l'ordinateur a planté pas mal de fois à cause de l'utilisation de la pipeline) \n",
    "Bien évidemment sur le cloud, ou avec une meilleur machine, l'utilisation du pipeline est recommandée"
   ]
  },
  {
   "cell_type": "code",
   "execution_count": 23,
   "metadata": {},
   "outputs": [],
   "source": [
    "X_train, y_train = sm.fit_resample(X_train, y_train)\n",
    "X_train_scaled = pd.DataFrame(scaler.transform(X_train),columns = X_train.columns)"
   ]
  },
  {
   "cell_type": "markdown",
   "metadata": {},
   "source": [
    "On définit notre fonction d'objectif, on définit un early stopping qui  prendra en compte les deux score : AUC et notre score défini ci dessus"
   ]
  },
  {
   "cell_type": "code",
   "execution_count": 24,
   "metadata": {},
   "outputs": [],
   "source": [
    "def objective(params):\n",
    "    \"\"\"Objective function for Gradient Boosting Machine Hyperparameter Tuning\"\"\"\n",
    "    parameters = params['models_spaces'].copy()\n",
    "    del parameters['model']\n",
    "    clf = params['models_spaces']['model'](**parameters)\n",
    "    print(parameters)\n",
    "\n",
    "    train_set = lgb.Dataset(X_train_scaled, label=y_train)\n",
    "    \n",
    "    eval_func = lambda y, X : ('credit_score', credit_gain_on_proba(X_train.iloc[X.get_label()], y, X.get_label()), True)\n",
    "        \n",
    "    # Perform n_fold cross validation with hyperparameters\n",
    "    # Use early stopping and evalute based on ROC AUC and on credit cost function\n",
    "    cv_results = lgb.cv(parameters, train_set, nfold=5,verbose_eval=10, num_boost_round=1000,\n",
    "                        early_stopping_rounds=100, metrics='auc', feval=eval_func,seed = 42)\n",
    "  \n",
    "    # Extract the best score\n",
    "    best_score = max(cv_results['credit_score-mean'])\n",
    "    \n",
    "    # Loss must be minimized\n",
    "    loss = -1 * best_score\n",
    "    \n",
    "    # Dictionary with information for evaluation\n",
    "    return {'loss': loss, 'params': params, 'status': STATUS_OK}"
   ]
  },
  {
   "cell_type": "markdown",
   "metadata": {},
   "source": [
    "Finalement on lance hyperopt, on défini un \"early stopping\" sur les trials, de telle façon que si le score ne s'améliore pas pendant 10 trias, on renvoie le modèle"
   ]
  },
  {
   "cell_type": "code",
   "execution_count": 25,
   "metadata": {},
   "outputs": [],
   "source": [
    "def run_trials():\n",
    "    max_trials = 100  # max trials if the early stopping isn't reached\n",
    "    count = 0  # number of steps with no loss improvement\n",
    "    max_count = 10  # early stopping rounds\n",
    "    threshold = 1e-4  # loss impovement threshold\n",
    "    previous_loss = None\n",
    "    trials = None\n",
    "    max_evals = 0\n",
    "    best_params = None\n",
    "    while max_evals <= max_trials:\n",
    "        if trials is None:\n",
    "            trials = Trials()\n",
    "            max_evals = 1\n",
    "        else:\n",
    "            max_evals = len(trials.trials) + 1\n",
    "        best_params = fmin(\n",
    "            objective,\n",
    "            space=space,\n",
    "            algo=tpe.suggest,\n",
    "            max_evals=max_evals,\n",
    "            trials=trials)\n",
    "        best_params = space_eval(space, best_params)\n",
    "        loss = trials.best_trial['result']['loss']\n",
    "\n",
    "        if previous_loss is not None:\n",
    "            if abs(previous_loss - loss) < threshold:\n",
    "                count = count + 1\n",
    "            else:\n",
    "                count = 0\n",
    "\n",
    "        print('----------------------------------')\n",
    "        print('Current step is {}'.format(max_evals))\n",
    "        print('best model params are {}'.format(best_params['models_spaces']))\n",
    "        print('Current loss is {}'.format(trials.best_trial['result']['loss']))\n",
    "        if previous_loss is not None:\n",
    "            print('Loss improvement is {}'.format(previous_loss - loss))\n",
    "\n",
    "        previous_loss = loss\n",
    "        if count >= max_count:\n",
    "            print('Early stopping for reaching max iteration without any improvement on loss')\n",
    "            break\n",
    "\n",
    "    return best_params, trials"
   ]
  },
  {
   "cell_type": "markdown",
   "metadata": {},
   "source": [
    "le modèle prends 12h à tourner sur ma machine, ce qui peut être compliqué quand on veut faire des essais, j'ai décidé de le sauver dans un fichier et de repartir de ce fichier s'il existe"
   ]
  },
  {
   "cell_type": "code",
   "execution_count": 26,
   "metadata": {},
   "outputs": [
    {
     "name": "stdout",
     "output_type": "stream",
     "text": [
      "Found an already saved classifier, using it!\n"
     ]
    }
   ],
   "source": [
    "if os.path.isfile('../../output/best_estimator.pkl'):\n",
    "    print('Found an already saved classifier, using it!')\n",
    "    classifier = pickle.load(open('../../output/best_estimator.pkl', 'rb'))\n",
    "else:\n",
    "    best_params, trials = run_trials()\n",
    "    model = best_params['models_spaces'].pop('model')\n",
    "    classifier = model(**best_params['models_spaces'])\n",
    "    eval_func = lambda y, X : ('credit_score', credit_gain_on_proba(X_test, y, y_test), True)\n",
    "    classifier.fit(X_train_scaled, y_train, eval_metric=eval_func, eval_set=[(X_test_scaled, y_test)], early_stopping_rounds=200, verbose=5)\n",
    "    pickle.dump(classifier, open('../../output/best_estimator.pkl', 'wb'))"
   ]
  },
  {
   "cell_type": "code",
   "execution_count": 27,
   "metadata": {},
   "outputs": [
    {
     "data": {
      "text/plain": [
       "LGBMClassifier(boosting_type='goss', class_weight='balanced',\n",
       "               colsample_bytree=0.7069849102479817, min_child_samples=87,\n",
       "               min_child_weight=4.2031367501272445, n_estimators=10000,\n",
       "               num_leaves=25, objective='binary', reg_alpha=0.7724008005312301,\n",
       "               reg_lambda=0.720234086958816)"
      ]
     },
     "execution_count": 27,
     "metadata": {},
     "output_type": "execute_result"
    }
   ],
   "source": [
    "classifier"
   ]
  },
  {
   "cell_type": "code",
   "execution_count": 28,
   "metadata": {},
   "outputs": [
    {
     "data": {
      "text/plain": [
       "6494.804471901787"
      ]
     },
     "execution_count": 28,
     "metadata": {},
     "output_type": "execute_result"
    }
   ],
   "source": [
    "credit_gain_on_optimal_proba(X_test, classifier.predict_proba(X_test_scaled)[:,1], y_test)"
   ]
  },
  {
   "cell_type": "markdown",
   "metadata": {},
   "source": [
    "Le gain potentiel a l'air bien mieux qu'avant, on regarde graphiquement ce que ça donne"
   ]
  },
  {
   "cell_type": "code",
   "execution_count": 29,
   "metadata": {},
   "outputs": [],
   "source": [
    "results_df = pd.DataFrame(columns=['Metric', 'Model', 'Score'])\n",
    "\n",
    "y_test_probas = classifier.predict_proba(X_test_scaled)[:,1]\n",
    "y_pred = classifier.predict(X_test_scaled)\n",
    "# on renseigne les résultats pour le meilleur estimateur\n",
    "results_df.loc[0] = ['AUC', 'Light GBM (hyperopt)', roc_auc_score(y_test, y_test_probas)]\n",
    "results_df.loc[1] = ['Accuracy', 'Light GBM (hyperopt)', accuracy_score(y_test, y_pred)]\n",
    "results_df.loc[2] = ['Credit Score', 'Light GBM (hyperopt)', credit_gain_on_optimal_proba(X_test, y_test_probas, y_test)]\n",
    "\n",
    "\n",
    "y_test_probas = log_reg.predict_proba(X_test_scaled)[:,1]\n",
    "y_pred = log_reg.predict(X_test_scaled)\n",
    "# puis pour la baseline\n",
    "results_df.loc[3] = ['AUC', 'Logistic regression', roc_auc_score(y_test, y_test_probas)]\n",
    "results_df.loc[4] = ['Accuracy', 'Logistic regression', accuracy_score(y_test, y_pred)]\n",
    "results_df.loc[5] = ['Credit Score', 'Logistic regression', credit_gain_on_optimal_proba(X_test, y_test_probas, y_test)]\n",
    "\n",
    "y_test_probas = log_reg_sampled.predict_proba(X_test_scaled)[:,1]\n",
    "y_pred = log_reg_sampled.predict(X_test_scaled)\n",
    "# et enfin baseline + SMOTE\n",
    "results_df.loc[6] = ['AUC', 'Logistic regression + SMOTE', roc_auc_score(y_test, y_test_probas)]\n",
    "results_df.loc[7] = ['Accuracy', 'Logistic regression + SMOTE', accuracy_score(y_test, y_pred)]\n",
    "results_df.loc[8] = ['Credit Score', 'Logistic regression + SMOTE', credit_gain_on_optimal_proba(X_test, y_test_probas, y_test)]\n",
    "\n"
   ]
  },
  {
   "cell_type": "code",
   "execution_count": 30,
   "metadata": {},
   "outputs": [
    {
     "data": {
      "text/html": [
       "<div>\n",
       "<style scoped>\n",
       "    .dataframe tbody tr th:only-of-type {\n",
       "        vertical-align: middle;\n",
       "    }\n",
       "\n",
       "    .dataframe tbody tr th {\n",
       "        vertical-align: top;\n",
       "    }\n",
       "\n",
       "    .dataframe thead th {\n",
       "        text-align: right;\n",
       "    }\n",
       "</style>\n",
       "<table border=\"1\" class=\"dataframe\">\n",
       "  <thead>\n",
       "    <tr style=\"text-align: right;\">\n",
       "      <th></th>\n",
       "      <th>Metric</th>\n",
       "      <th>Model</th>\n",
       "      <th>Score</th>\n",
       "    </tr>\n",
       "  </thead>\n",
       "  <tbody>\n",
       "    <tr>\n",
       "      <th>0</th>\n",
       "      <td>AUC</td>\n",
       "      <td>Light GBM (hyperopt)</td>\n",
       "      <td>0.798474</td>\n",
       "    </tr>\n",
       "    <tr>\n",
       "      <th>1</th>\n",
       "      <td>Accuracy</td>\n",
       "      <td>Light GBM (hyperopt)</td>\n",
       "      <td>0.751714</td>\n",
       "    </tr>\n",
       "    <tr>\n",
       "      <th>2</th>\n",
       "      <td>Credit Score</td>\n",
       "      <td>Light GBM (hyperopt)</td>\n",
       "      <td>6494.804472</td>\n",
       "    </tr>\n",
       "    <tr>\n",
       "      <th>3</th>\n",
       "      <td>AUC</td>\n",
       "      <td>Logistic regression</td>\n",
       "      <td>0.711007</td>\n",
       "    </tr>\n",
       "    <tr>\n",
       "      <th>4</th>\n",
       "      <td>Accuracy</td>\n",
       "      <td>Logistic regression</td>\n",
       "      <td>0.919275</td>\n",
       "    </tr>\n",
       "    <tr>\n",
       "      <th>5</th>\n",
       "      <td>Credit Score</td>\n",
       "      <td>Logistic regression</td>\n",
       "      <td>-440.789790</td>\n",
       "    </tr>\n",
       "    <tr>\n",
       "      <th>6</th>\n",
       "      <td>AUC</td>\n",
       "      <td>Logistic regression + SMOTE</td>\n",
       "      <td>0.728618</td>\n",
       "    </tr>\n",
       "    <tr>\n",
       "      <th>7</th>\n",
       "      <td>Accuracy</td>\n",
       "      <td>Logistic regression + SMOTE</td>\n",
       "      <td>0.679154</td>\n",
       "    </tr>\n",
       "    <tr>\n",
       "      <th>8</th>\n",
       "      <td>Credit Score</td>\n",
       "      <td>Logistic regression + SMOTE</td>\n",
       "      <td>902.275517</td>\n",
       "    </tr>\n",
       "  </tbody>\n",
       "</table>\n",
       "</div>"
      ],
      "text/plain": [
       "         Metric                        Model        Score\n",
       "0           AUC         Light GBM (hyperopt)     0.798474\n",
       "1      Accuracy         Light GBM (hyperopt)     0.751714\n",
       "2  Credit Score         Light GBM (hyperopt)  6494.804472\n",
       "3           AUC          Logistic regression     0.711007\n",
       "4      Accuracy          Logistic regression     0.919275\n",
       "5  Credit Score          Logistic regression  -440.789790\n",
       "6           AUC  Logistic regression + SMOTE     0.728618\n",
       "7      Accuracy  Logistic regression + SMOTE     0.679154\n",
       "8  Credit Score  Logistic regression + SMOTE   902.275517"
      ]
     },
     "execution_count": 30,
     "metadata": {},
     "output_type": "execute_result"
    }
   ],
   "source": [
    "results_df.head(10)"
   ]
  },
  {
   "cell_type": "markdown",
   "metadata": {},
   "source": [
    "Le credit score n'est pas scalé, par contre les autres le sont, ça risque de faire des graphes déséquilibrés, on va juste scaler le credit score d'une échelle de 0 à 1\n",
    "\n"
   ]
  },
  {
   "cell_type": "code",
   "execution_count": 31,
   "metadata": {},
   "outputs": [],
   "source": [
    "max_score = results_df[results_df['Metric'] == 'Credit Score']['Score'].max()\n",
    "min_score = results_df[results_df['Metric'] == 'Credit Score']['Score'].min()\n",
    "\n",
    "def scale_score(row):\n",
    "    if row['Metric'] == 'Credit Score':\n",
    "        return (row['Score'] - min_score) / (max_score - min_score)\n",
    "    return row['Score']\n",
    "\n",
    "results_df['Score'] = results_df.apply(lambda row : scale_score(row), axis=1)\n",
    "\n"
   ]
  },
  {
   "cell_type": "code",
   "execution_count": 32,
   "metadata": {},
   "outputs": [
    {
     "data": {
      "text/html": [
       "<div>\n",
       "<style scoped>\n",
       "    .dataframe tbody tr th:only-of-type {\n",
       "        vertical-align: middle;\n",
       "    }\n",
       "\n",
       "    .dataframe tbody tr th {\n",
       "        vertical-align: top;\n",
       "    }\n",
       "\n",
       "    .dataframe thead th {\n",
       "        text-align: right;\n",
       "    }\n",
       "</style>\n",
       "<table border=\"1\" class=\"dataframe\">\n",
       "  <thead>\n",
       "    <tr style=\"text-align: right;\">\n",
       "      <th></th>\n",
       "      <th>Metric</th>\n",
       "      <th>Model</th>\n",
       "      <th>Score</th>\n",
       "    </tr>\n",
       "  </thead>\n",
       "  <tbody>\n",
       "    <tr>\n",
       "      <th>0</th>\n",
       "      <td>AUC</td>\n",
       "      <td>Light GBM (hyperopt)</td>\n",
       "      <td>0.798474</td>\n",
       "    </tr>\n",
       "    <tr>\n",
       "      <th>1</th>\n",
       "      <td>Accuracy</td>\n",
       "      <td>Light GBM (hyperopt)</td>\n",
       "      <td>0.751714</td>\n",
       "    </tr>\n",
       "    <tr>\n",
       "      <th>2</th>\n",
       "      <td>Credit Score</td>\n",
       "      <td>Light GBM (hyperopt)</td>\n",
       "      <td>1.000000</td>\n",
       "    </tr>\n",
       "    <tr>\n",
       "      <th>3</th>\n",
       "      <td>AUC</td>\n",
       "      <td>Logistic regression</td>\n",
       "      <td>0.711007</td>\n",
       "    </tr>\n",
       "    <tr>\n",
       "      <th>4</th>\n",
       "      <td>Accuracy</td>\n",
       "      <td>Logistic regression</td>\n",
       "      <td>0.919275</td>\n",
       "    </tr>\n",
       "    <tr>\n",
       "      <th>5</th>\n",
       "      <td>Credit Score</td>\n",
       "      <td>Logistic regression</td>\n",
       "      <td>0.000000</td>\n",
       "    </tr>\n",
       "    <tr>\n",
       "      <th>6</th>\n",
       "      <td>AUC</td>\n",
       "      <td>Logistic regression + SMOTE</td>\n",
       "      <td>0.728618</td>\n",
       "    </tr>\n",
       "    <tr>\n",
       "      <th>7</th>\n",
       "      <td>Accuracy</td>\n",
       "      <td>Logistic regression + SMOTE</td>\n",
       "      <td>0.679154</td>\n",
       "    </tr>\n",
       "    <tr>\n",
       "      <th>8</th>\n",
       "      <td>Credit Score</td>\n",
       "      <td>Logistic regression + SMOTE</td>\n",
       "      <td>0.193648</td>\n",
       "    </tr>\n",
       "  </tbody>\n",
       "</table>\n",
       "</div>"
      ],
      "text/plain": [
       "         Metric                        Model     Score\n",
       "0           AUC         Light GBM (hyperopt)  0.798474\n",
       "1      Accuracy         Light GBM (hyperopt)  0.751714\n",
       "2  Credit Score         Light GBM (hyperopt)  1.000000\n",
       "3           AUC          Logistic regression  0.711007\n",
       "4      Accuracy          Logistic regression  0.919275\n",
       "5  Credit Score          Logistic regression  0.000000\n",
       "6           AUC  Logistic regression + SMOTE  0.728618\n",
       "7      Accuracy  Logistic regression + SMOTE  0.679154\n",
       "8  Credit Score  Logistic regression + SMOTE  0.193648"
      ]
     },
     "execution_count": 32,
     "metadata": {},
     "output_type": "execute_result"
    }
   ],
   "source": [
    "results_df.head(10)"
   ]
  },
  {
   "cell_type": "code",
   "execution_count": 33,
   "metadata": {},
   "outputs": [
    {
     "data": {
      "image/png": "[encoded data removed]",
      "text/plain": [
       "<Figure size 1440x648 with 1 Axes>"
      ]
     },
     "metadata": {
      "needs_background": "light"
     },
     "output_type": "display_data"
    }
   ],
   "source": [
    "g = sns.catplot(x='Metric', y='Score', hue='Model', data=results_df,\n",
    "                kind='bar', palette='muted')\n",
    "g.fig.set_figwidth(20)\n",
    "g.fig.set_figheight(9)"
   ]
  },
  {
   "cell_type": "markdown",
   "metadata": {},
   "source": [
    "Finalement on sauve toutes les données modélisée, pour  pouvoir faire le dashboard après, donc on applique l'imputer, et le scaling sur toute la dataframe"
   ]
  },
  {
   "cell_type": "code",
   "execution_count": 34,
   "metadata": {},
   "outputs": [],
   "source": [
    "target_col = data['TARGET']\n",
    "key_col = data['SK_ID_CURR']\n",
    "\n",
    "data_to_save = data.drop(columns=['TARGET', 'SK_ID_CURR'])\n",
    "data_to_save.replace([np.inf, -np.inf], np.nan, inplace=True)\n",
    "\n",
    "data_to_save = pd.DataFrame(imputer.transform(data_to_save),columns = data_to_save.columns)\n",
    "data_to_save = pd.DataFrame(scaler.transform(data_to_save),columns = data_to_save.columns)\n",
    "# save data\n",
    "data_to_save['TARGET'] = target_col\n",
    "data_to_save['SK_ID_CURR'] = key_col\n",
    "data_to_save.to_feather('../../output/data_after_modelisation.ft')\n"
   ]
  },
  {
   "cell_type": "code",
   "execution_count": null,
   "metadata": {},
   "outputs": [],
   "source": []
  }
 ],
 "metadata": {
  "kernelspec": {
   "display_name": "Python 3",
   "language": "python",
   "name": "python3"
  },
  "language_info": {
   "codemirror_mode": {
    "name": "ipython",
    "version": 3
   },
   "file_extension": ".py",
   "mimetype": "text/x-python",
   "name": "python",
   "nbconvert_exporter": "python",
   "pygments_lexer": "ipython3",
   "version": "3.7.6"
  }
 },
 "nbformat": 4,
 "nbformat_minor": 4
}
